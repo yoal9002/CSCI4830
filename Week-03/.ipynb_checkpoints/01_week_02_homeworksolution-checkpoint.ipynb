{
 "cells": [
  {
   "cell_type": "markdown",
   "metadata": {
    "slideshow": {
     "slide_type": "slide"
    }
   },
   "source": [
    "# Python Plotting with Subplots "
   ]
  },
  {
   "cell_type": "markdown",
   "metadata": {
    "slideshow": {
     "slide_type": "-"
    }
   },
   "source": [
    "## Homework for Week 02 (Tue 19 Jan 2016)"
   ]
  },
  {
   "cell_type": "markdown",
   "metadata": {
    "slideshow": {
     "slide_type": "-"
    }
   },
   "source": [
    "You will use the code provided below which mines the ESRL(NOAA/NWS) data server for the daily weather in Boulder Colorado for 2012. With this data you will create a vertically layed out subplot with two plots which will be described below. \n",
    "\n",
    "We will be looking at:\n",
    "\n",
    "1. <a href=\"#goal\">Our Goal: Plotting With Subplots.</a>\n",
    "2. <a href=\"#gallery\">Matplotlib Gallery.</a>\n",
    "3. <a href=\"#esrlcode\">Mining ESRL 2012 temperature data python code.</a>\n",
    "4. <a href=\"#mmean\">Monthly mean temperatures.</a>\n",
    "5. <a href=\"#subplots\">Subplots.</a>\n",
    "6. <a href=\"#hw_code\">Enter your code below.</a>\n"
   ]
  },
  {
   "cell_type": "markdown",
   "metadata": {
    "slideshow": {
     "slide_type": "slide"
    }
   },
   "source": [
    "<a id=\"goal\">\n",
    "### Our Goal: Plotting With Subplots</a>\n",
    "\n",
    "* Matplotlib Gallery\n",
    "* Create a vertical subplot layout with two plots\n",
    "* The top plot will be a scatter plot of 'Daily Maximum Temperatures' along with the average daily temperature.\n",
    "* The bottom plot will be a bar plot of 'Average of Daily High Temperature Binned by Month' along with the average monthly temperature.\n"
   ]
  },
  {
   "cell_type": "markdown",
   "metadata": {
    "slideshow": {
     "slide_type": "slide"
    }
   },
   "source": [
    "<a id=\"gallery\">\n",
    "### Matplotlib Gallery</a>\n",
    "Pythons matplotlib is extensive and contains all the plotting functionality Matlab has plus more. Its nearly impossible to remember it all so your best friend is (or will be) the matplotlib galley (http://matplotlib.org/gallery.html). \n",
    "\n",
    "Assume you want some guidance in creating a subplot so go to matplotlib's gallery page (http://matplotlib.org/1.2.1/gallery.html). \n",
    "Using the 'Quick Search' type in 'subplot' then hit 'Go'\n",
    "Note that there are two really promising links that result from our search.\n",
    "'matplotlib.pyplot.subplot' and 'Our Favorite Recipies' both give you a quick start on creating subplots. Note the first link gives you the actual function documentation as well as an example!\n",
    "\n",
    "Its suggested you look in the gallery for the following subjects.\n",
    "\n",
    "* Subplot\n",
    "* plot_date\n",
    "* Bar plot\n"
   ]
  },
  {
   "cell_type": "markdown",
   "metadata": {
    "slideshow": {
     "slide_type": "slide"
    }
   },
   "source": [
    "<a id=\"esrl code\">\n",
    "### Mining ESRL 2012 temperature data python code</a>\n",
    "\n",
    "You will start off by using the provided python code which will access the ESRL data server to retrieve and extract weather information for Boulder weather statistics. It will then extract all the temperature data for 2012 and provide variables containing the full dataset for 2012, the average maximum temperatures as well as the daily minimum and maximum temperatures."
   ]
  },
  {
   "cell_type": "code",
   "execution_count": 1,
   "metadata": {
    "collapsed": false
   },
   "outputs": [],
   "source": [
    "%matplotlib inline   \n",
    "\n",
    "import urllib2\n",
    "import StringIO \n",
    "import itertools \n",
    "import datetime\n",
    "import numpy as np"
   ]
  },
  {
   "cell_type": "markdown",
   "metadata": {
    "slideshow": {
     "slide_type": "slide"
    }
   },
   "source": [
    "#### Reading the data as text to explore the data set"
   ]
  },
  {
   "cell_type": "code",
   "execution_count": 2,
   "metadata": {
    "collapsed": false,
    "slideshow": {
     "slide_type": "subslide"
    }
   },
   "outputs": [
    {
     "data": {
      "text/plain": [
       "' Please read information at bottom of file before using\\n'"
      ]
     },
     "execution_count": 2,
     "metadata": {},
     "output_type": "execute_result"
    }
   ],
   "source": [
    "# Define the URL and load the raw data from ESRL\n",
    "boulder_url  = \"http://www.esrl.noaa.gov/psd/boulder/data/boulderdaily.complete\"\n",
    "dres  = urllib2.urlopen(boulder_url)\n",
    "dall = StringIO.StringIO(dres.read())\n",
    "dall.readline()"
   ]
  },
  {
   "cell_type": "code",
   "execution_count": 3,
   "metadata": {
    "collapsed": false,
    "slideshow": {
     "slide_type": "subslide"
    }
   },
   "outputs": [
    {
     "data": {
      "text/plain": [
       "[' 2015 12 26     28     14    0.14     2.6      5\\n',\n",
       " ' 2015 12 27     27      5    0.00     0.0      5\\n',\n",
       " ' 2015 12 28     31      4    0.00     0.0      4\\n',\n",
       " ' 2015 12 29     27      9    0.00     0.0      3\\n',\n",
       " ' 2015 12 30     30      7    0.00     0.0      3\\n',\n",
       " ' 2015 12 31     31      6    0.00     0.0      3\\n',\n",
       " ' Data is at http://www.esrl.noaa.gov/psd/boulder/\\n',\n",
       " ' Data MAY have transcription\\n',\n",
       " ' errors at original source\\n',\n",
       " '  \\n',\n",
       " ' Format: year, mon, day, tmax, tmin, precip, snow, snowcover\\n',\n",
       " ' units: degF for temperature; inches precip and snow\\n',\n",
       " ' precipitation is precise to 1/100 inch\\n',\n",
       " ' snowfall is precise to 1/10 inch\\n',\n",
       " ' depth of snow on the ground (snowcover) is precise \\n',\n",
       " ' to the nearest inch\\n',\n",
       " ' temperature is precise to 1 degree\\n',\n",
       " '  \\n',\n",
       " ' See webpage for more details\\n',\n",
       " ' This file produced by CAS AT NOAA/ESRL PSD\\n']"
      ]
     },
     "execution_count": 3,
     "metadata": {},
     "output_type": "execute_result"
    }
   ],
   "source": [
    "txtdata = dall.readlines()\n",
    "txtdata[-20:]"
   ]
  },
  {
   "cell_type": "markdown",
   "metadata": {
    "slideshow": {
     "slide_type": "slide"
    }
   },
   "source": [
    "### Reading and Transforming the Data\n",
    "\n",
    "Format: year, mon, day, tmax, tmin, precip, snow, snowcover\n",
    "\n",
    "Units: degF for temperature; inches precip and snow\n",
    "\n",
    "Read the data into a `ndarray` of structured data type see: http://docs.scipy.org/doc/numpy-1.10.1/user/basics.rec.html"
   ]
  },
  {
   "cell_type": "code",
   "execution_count": 4,
   "metadata": {
    "collapsed": false,
    "slideshow": {
     "slide_type": "subslide"
    }
   },
   "outputs": [
    {
     "name": "stdout",
     "output_type": "stream",
     "text": [
      "<type 'numpy.ndarray'>\n",
      "(366,)\n",
      "[('ymd', '<i8', (3,)), ('tmax', '<f8'), ('tmin', '<f8'), ('pcep', '<f8'), ('snow', '<f8'), ('scvr', '<f8')]\n",
      "('ymd', 'tmax', 'tmin', 'pcep', 'snow', 'scvr')\n",
      "([2012, 1, 1], 35.0, 19.0, 0.0, 0.0, 2.0)\n"
     ]
    }
   ],
   "source": [
    "# Define the URL and load the raw data from ESRL\n",
    "boulder_url  = \"http://www.esrl.noaa.gov/psd/boulder/data/boulderdaily.complete\"\n",
    "dres  = urllib2.urlopen(boulder_url)\n",
    "dall = StringIO.StringIO(dres.read())\n",
    "\n",
    "col_dtypes= [('ymd', int, 3),\n",
    "             ('tmax', float),\n",
    "             ('tmin', float),\n",
    "             ('pcep', float),\n",
    "             ('snow', float),\n",
    "             ('scvr', float),\n",
    "            ]\n",
    "\n",
    "# Filter out only data from 2012\n",
    "year = \"2012\"\n",
    "\n",
    "# Slurp in the data\n",
    "data = np.genfromtxt(itertools.ifilter(lambda x: x.strip().startswith(year), dall),\n",
    "                     dtype=col_dtypes,\n",
    "                     filling_values=(-999))\n",
    "\n",
    "print(type(data))\n",
    "print(data.shape)\n",
    "print(data.dtype)\n",
    "print(data.dtype.names)\n",
    "print(data[0])"
   ]
  },
  {
   "cell_type": "markdown",
   "metadata": {
    "slideshow": {
     "slide_type": "slide"
    }
   },
   "source": [
    "#### Extract the data we want\n",
    "\n",
    "* dates\n",
    "* Temperature\n"
   ]
  },
  {
   "cell_type": "code",
   "execution_count": 5,
   "metadata": {
    "collapsed": false
   },
   "outputs": [
    {
     "name": "stdout",
     "output_type": "stream",
     "text": [
      "Last line of the data ([2012, 12, 31], 28.0, 10.0, 0.01, 0.1, 3.0)\n",
      "2012-12-31 00:00:00\n",
      "Average max temperature: 69.131147541\n",
      "Minimum max temperature: 25.0\n",
      "Maximum max temperature: 102.0\n"
     ]
    }
   ],
   "source": [
    "print(\"Last line of the data {0}\".format(data[-1]))\n",
    "\n",
    "def cdate(x):\n",
    "    return datetime.datetime(int(x[0]), int(x[1]), int(x[2]))\n",
    "\n",
    "#dates = np.array([cdate(x) for x in data['ymd']])  #Date values\n",
    "dates = map(cdate, data['ymd'])\n",
    "\n",
    "\n",
    "print(dates[-1])\n",
    "\n",
    "tmax_avg = np.mean(data['tmax']) #Average Daily Temperature\n",
    "tmax_low = np.amin(data['tmax']) #Daily Low Temperature\n",
    "tmax_hig = np.amax(data['tmax']) #Daily Maximum Temperature\n",
    "\n",
    "print(\"Average max temperature: {0}\".format(tmax_avg))\n",
    "print(\"Minimum max temperature: {0}\".format(tmax_low))\n",
    "print(\"Maximum max temperature: {0}\".format(tmax_hig))\n"
   ]
  },
  {
   "cell_type": "markdown",
   "metadata": {
    "slideshow": {
     "slide_type": "slide"
    }
   },
   "source": [
    "<a id=\"mmean\">\n",
    "### Monthly mean temperatures</a>\n",
    "\n",
    "For our bottom plot you will use the calculated monthly average of the daily maximum temperatures. Since each month has a different number of days the code iterates over an array to calculate the mean temperature for each month.\n"
   ]
  },
  {
   "cell_type": "code",
   "execution_count": 6,
   "metadata": {
    "collapsed": false
   },
   "outputs": [
    {
     "name": "stdout",
     "output_type": "stream",
     "text": [
      "Average minimum temperaturs for each month: [32.0, 27.0, 35.0, 40.0, 47.0, 78.0, 75.0, 80.0, 65.0, 36.0, 36.0, 25.0]\n",
      "Average minimum temperaturs for each month: [69.0, 62.0, 81.0, 87.0, 89.0, 102.0, 100.0, 96.0, 94.0, 85.0, 73.0, 71.0]\n",
      "Difference between average minimum and maximum temperaturs for each month: [ 37.  35.  46.  47.  42.  24.  25.  16.  29.  49.  37.  46.]\n"
     ]
    }
   ],
   "source": [
    "m=0\n",
    "mnthMean = [] \n",
    "mnthStd = []\n",
    "mnthMax = []\n",
    "mnthMin = []\n",
    "\n",
    "mnths = np.array([31,29,31, 30, 31, 30, 31, 31, 30, 31,30,31])  # Number of days in each month\n",
    "monthArr = [i for i in range(0,12)]\n",
    "\n",
    "#Calculate the monthly means\n",
    "for i in monthArr:\n",
    "    monthDat = data['tmax'][m:m+mnths[i]]\n",
    "    mnthMean.append(np.mean(monthDat))\n",
    "    mnthStd.append(np.std(monthDat))\n",
    "    mnthMax.append(np.max(monthDat))\n",
    "    mnthMin.append(np.min(monthDat))\n",
    "    m = m+mnths[i]\n",
    " \n",
    "print(\"Average minimum temperaturs for each month: {0}\".format(mnthMin))\n",
    "print(\"Average minimum temperaturs for each month: {0}\".format(mnthMax))\n",
    "mnthDiff=np.array(mnthMax)-np.array(mnthMin)\n",
    "print(\"Difference between average minimum and maximum temperaturs for each month: {0}\".format(mnthDiff))"
   ]
  },
  {
   "cell_type": "markdown",
   "metadata": {
    "slideshow": {
     "slide_type": "slide"
    }
   },
   "source": [
    "<a id=\"subplots\">\n",
    "### Creating Subplots</a>\n",
    "Python subplots allow you to add more then one plot per figure. \n",
    "\n",
    "You want to create a plot that has two vertically stacked panels in it. \n",
    "\n",
    "* The top panel will produce a scatter plot of the 'Daily Maximum Temperatures' (this is part of your title for the plot, whats the second part of the title if you wish to tell people what you are plotting?) The x-axis will be the data for each day of the year. The x-axis labels should be the 3-letter abbreviation for each month appropriately spaced and not each actual date. The y-axis will be the maximum temperature for each day. Add a line plot of the average daily temerature for the full year. It is highly recommended that you look at a plot called 'plot_date' to most easily plot your data. \n",
    "\n",
    "* The bottom plot is a bar plot which you will title 'Average of Daily High Temperature Binned by Month' (again only part of the title, whats the second part?) The bar plot should include error bars indicating the standard deviation of temperature for each month. Add a line plot of the average monthly temperature for the full year. The axis labeling will be basically the same as the above plot.\n",
    "\n",
    "* Make sure you include proper axis labels, including any relavent units. Add appropriate legends. Make sure the font sizes are easily readable.\n",
    "\n",
    "* When finsihed submit your completed and working Notebook to the 'Week 02: Homework' Dropbox on D2L.\n",
    "\n"
   ]
  },
  {
   "cell_type": "markdown",
   "metadata": {
    "slideshow": {
     "slide_type": "slide"
    }
   },
   "source": [
    "<a id=\"hw_code\">\n",
    "### Add your code in the cell below:</a>\n"
   ]
  },
  {
   "cell_type": "code",
   "execution_count": 7,
   "metadata": {
    "collapsed": false
   },
   "outputs": [
    {
     "data": {
      "image/png": "[encoded data removed]",
      "text/plain": [
       "<matplotlib.figure.Figure at 0x10360a990>"
      ]
     },
     "metadata": {},
     "output_type": "display_data"
    }
   ],
   "source": [
    "import matplotlib.pyplot as plt\n",
    "\n",
    "fig = plt.figure(1,dpi=300,figsize=(10,8)) \n",
    "\n",
    "lMnths=('Jan', 'Feb', 'Mar', 'Apr', 'May','Jun','Jul','Aug','Sep','Oct','Nov','Dec') # x-axis labels\n",
    "numMonths = np.shape(mnthMean)[0]\n",
    "nMnths = np.arange(numMonths)                    # x-axis\n",
    "width = 0.5                                                  # Bar width\n",
    "plt.xticks(rotation='vertical')\n",
    "\n",
    "\n",
    "ax1 = plt.subplot(2,1,1)\n",
    "# Create top panel\n",
    "#ax1.scatter(dates, data['tmax'],label='Daily MaxTemp')\n",
    "ax1.plot_date(dates, data['tmax'],label='Daily MaxTemp')\n",
    "ax1.axhline(tmax_avg, color='r',label='Yearly Average')\n",
    "ax1.set_title('Daily Maximum Temperatures\\nFor 2012') \n",
    "ax1.set_xlabel('Date')\n",
    "ax1.set_ylabel(u'Temperature [°F]')\n",
    "ax1.set_xticklabels(lMnths)\n",
    "ax1.legend(loc='best',fontsize=12,shadow=True)\n",
    "\n",
    "\n",
    "# Create bottom panel\n",
    "ax2 = plt.subplot(2,1,2)\n",
    "ax2.bar(nMnths,mnthMean,yerr=mnthStd,ecolor='r',width=0.5,align='center',label='Monthly Mean of Daily High')\n",
    "ax2.axhline(tmax_avg, color='r',label='Yearly Average')\n",
    "ax2.set_xticklabels(lMnths)\n",
    "ax2.set_xticks(nMnths)\n",
    "\n",
    "plt.title('Average of Daily High Temperature Binned by Month\\nFor 2012')\n",
    "plt.xlabel('Month')\n",
    "plt.ylabel(u'Average Temperature [°F]')\n",
    "ax2.legend(loc='best',fontsize=12,shadow=True)\n",
    "\n",
    "\n",
    "#Save the figure to disk\n",
    "plt.savefig('Tmp')\n",
    "plt.tight_layout()\n",
    "\n",
    "#Show the plot\n",
    "plt.show()\n"
   ]
  }
 ],
 "metadata": {
  "celltoolbar": "Slideshow",
  "kernelspec": {
   "display_name": "Python 2",
   "language": "python",
   "name": "python2"
  },
  "language_info": {
   "codemirror_mode": {
    "name": "ipython",
    "version": 2
   },
   "file_extension": ".py",
   "mimetype": "text/x-python",
   "name": "python",
   "nbconvert_exporter": "python",
   "pygments_lexer": "ipython2",
   "version": "2.7.11"
  }
 },
 "nbformat": 4,
 "nbformat_minor": 0
}
